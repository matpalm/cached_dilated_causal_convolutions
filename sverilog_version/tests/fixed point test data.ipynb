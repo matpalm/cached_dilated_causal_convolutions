{
 "cells": [
  {
   "cell_type": "code",
   "execution_count": 1,
   "id": "28f0bcd8-5b89-41fb-8c6c-7a909a78befe",
   "metadata": {},
   "outputs": [],
   "source": [
    "from fxpmath import Fxp"
   ]
  },
  {
   "cell_type": "code",
   "execution_count": 9,
   "id": "00a3bdb0-9081-4b4c-a04d-ed26e189785b",
   "metadata": {},
   "outputs": [],
   "source": [
    "\n",
    "N_WORD = 16\n",
    "N_INT = 4\n",
    "N_FRAC = 12\n",
    "assert N_WORD == N_INT + N_FRAC\n",
    "\n",
    "\n",
    "# convert a value to the target fixed point representation for\n",
    "# values or weights\n",
    "def single_width_fxp(v):\n",
    "  return Fxp(v, signed=True, n_word=N_WORD, n_frac=N_FRAC)\n",
    "\n",
    "# convert a value to the double width target fixed point\n",
    "# representation that will be used for products and accumulators\n",
    "def double_width_fxp(v):\n",
    "  return Fxp(v, signed=True, n_word=N_WORD*2, n_frac=N_FRAC*2)\n",
    "\n",
    "def bits(fxp):\n",
    "    return fxp.bin(frac_dot=True)\n",
    "\n",
    "def dump(v):\n",
    "    # dump value as hex with fixed point debug\n",
    "    swfp = single_width_fxp(v)\n",
    "    q_val = float(swfp)\n",
    "#    if q_val != v:\n",
    "#        raise Exception(f\"couldn't convert [{v}] exactly, best was [{swfp}]\")\n",
    "    print(f\"{swfp.hex()},   # {bits(swfp)} {q_val}\")\n",
    "\n",
    "def dump_l(l):\n",
    "    for v in l:\n",
    "        dump(v)\n",
    "\n",
    "DFT_NUM_BITS = 16\n",
    "\n",
    "\n",
    "def bit_not(n, numbits=DFT_NUM_BITS):\n",
    "    return (1 << numbits) - 1 - n\n",
    "    \n",
    "# n -> [W-1:0] for W=16\n",
    "def signed_to_twos_comp(n, numbits=DFT_NUM_BITS):\n",
    "    return n if n >= 0 else bit_not(-n, numbits) + 1\n",
    "\n",
    "# [W-1:0] -> n for W=16\n",
    "def twos_comp_to_signed(n, numbits=DFT_NUM_BITS):\n",
    "    if (1 << (numbits-1) & n) > 0:\n",
    "        return -int(bit_not(n, numbits) + 1)\n",
    "    else:\n",
    "        return int(n)"
   ]
  },
  {
   "cell_type": "code",
   "execution_count": 77,
   "id": "e8f59f1f-1bdf-4099-9c3c-fccf14270685",
   "metadata": {
    "scrolled": true
   },
   "outputs": [
    {
     "data": {
      "text/plain": [
       "65302"
      ]
     },
     "execution_count": 77,
     "metadata": {},
     "output_type": "execute_result"
    }
   ],
   "source": [
    "signed_to_twos_comp(-234)"
   ]
  },
  {
   "cell_type": "code",
   "execution_count": 81,
   "id": "748475d6-c756-47d4-9ba3-abe6ed01bbef",
   "metadata": {},
   "outputs": [
    {
     "data": {
      "text/plain": [
       "-194.5"
      ]
     },
     "execution_count": 81,
     "metadata": {},
     "output_type": "execute_result"
    }
   ],
   "source": [
    "twos_comp_to_signed(62424, numbits=16) / 2**4"
   ]
  },
  {
   "cell_type": "code",
   "execution_count": 10,
   "id": "8375b33f-5d26-4eda-8a97-0e3deca8d94b",
   "metadata": {},
   "outputs": [
    {
     "name": "stdout",
     "output_type": "stream",
     "text": [
      "0x0934,   # 0000.100100110100 0.5751953125\n",
      "0xFBBE,   # 1111.101110111110 -0.26611328125\n",
      "0xF580,   # 1111.010110000000 -0.65625\n",
      "0xFB0D,   # 1111.101100001101 -0.309326171875\n"
     ]
    }
   ],
   "source": [
    "dump_l([0.57543945, -0.26635742, -0.65649414, -0.30957031])"
   ]
  },
  {
   "cell_type": "code",
   "execution_count": 36,
   "id": "cd99e897-f546-431c-ac02-94dc266b0c44",
   "metadata": {},
   "outputs": [
    {
     "name": "stdout",
     "output_type": "stream",
     "text": [
      "0xFDFC,   # 1111.110111111100 -0.1259765625\n"
     ]
    }
   ],
   "source": [
    "dump( -0.1259765625 )"
   ]
  },
  {
   "cell_type": "code",
   "execution_count": 12,
   "id": "169ff7b0-ab03-42a9-94b6-f8fed2feaf17",
   "metadata": {},
   "outputs": [
    {
     "name": "stdout",
     "output_type": "stream",
     "text": [
      "0x0325,   # 0000.001100100101 0.196533203125\n",
      "0x0E60,   # 0000.111001100000 0.8984375\n"
     ]
    }
   ],
   "source": [
    "dump_l([0.19677734,  0.89868164])"
   ]
  },
  {
   "cell_type": "code",
   "execution_count": 11,
   "id": "0b0e26db-5b48-4384-9fc8-7e805710d6ad",
   "metadata": {},
   "outputs": [
    {
     "name": "stdout",
     "output_type": "stream",
     "text": [
      "0xF000,   # 1111.000000000000 -1.0\n"
     ]
    }
   ],
   "source": [
    "0000.001100100101\n",
    "0000.001100100110\n",
    "\n",
    "0000.111001100000\n",
    "0000.111001100001\n",
    "\n"
   ]
  },
  {
   "cell_type": "code",
   "execution_count": 41,
   "id": "d049f844-7117-4ad0-a183-f6117a08ef5e",
   "metadata": {},
   "outputs": [
    {
     "name": "stdout",
     "output_type": "stream",
     "text": [
      "0x0400,   # 0000.010000000000 0.25\n"
     ]
    }
   ],
   "source": [
    "dump(0.25)"
   ]
  },
  {
   "cell_type": "code",
   "execution_count": 43,
   "id": "02e3bf50-3a2e-4c01-a873-e5dee60faa88",
   "metadata": {},
   "outputs": [
    {
     "name": "stdout",
     "output_type": "stream",
     "text": [
      "0xF3D8,   # 1111.001111011000 -0.759765625\n"
     ]
    }
   ],
   "source": [
    "dump(-0.76)"
   ]
  },
  {
   "cell_type": "code",
   "execution_count": 45,
   "id": "5ec0d376-ca2e-4704-9f96-df96c7892f7c",
   "metadata": {},
   "outputs": [
    {
     "data": {
      "text/plain": [
       "fxp-s32/24(-0.18994140625)"
      ]
     },
     "execution_count": 45,
     "metadata": {},
     "output_type": "execute_result"
    }
   ],
   "source": [
    "prod = single_width_fxp(0.25) * single_width_fxp(-0.76)\n",
    "prod"
   ]
  },
  {
   "cell_type": "code",
   "execution_count": 46,
   "id": "fb18dedd-2aee-425e-b803-3f8f7f3b6fb5",
   "metadata": {},
   "outputs": [
    {
     "data": {
      "text/plain": [
       "fxp-s16/12(0.25)"
      ]
     },
     "execution_count": 46,
     "metadata": {},
     "output_type": "execute_result"
    }
   ],
   "source": [
    "single_width_fxp(0.25)"
   ]
  },
  {
   "cell_type": "code",
   "execution_count": 47,
   "id": "2c4c555b-e0b9-4a86-a87c-21f227f1e2de",
   "metadata": {},
   "outputs": [
    {
     "data": {
      "text/plain": [
       "fxp-s32/24(-0.18994140625)"
      ]
     },
     "execution_count": 47,
     "metadata": {},
     "output_type": "execute_result"
    }
   ],
   "source": [
    " single_width_fxp(0.25) * single_width_fxp(-0.759765625)"
   ]
  },
  {
   "cell_type": "code",
   "execution_count": 58,
   "id": "0f2a49c1-a40f-49af-837d-32aebe365f9b",
   "metadata": {},
   "outputs": [
    {
     "name": "stdout",
     "output_type": "stream",
     "text": [
      "0xF800,   # 1111.100000000000 -0.5\n"
     ]
    }
   ],
   "source": [
    "dumpl([])"
   ]
  },
  {
   "cell_type": "code",
   "execution_count": 50,
   "id": "bdc2b35c-9177-43ce-bf8b-a99486a6b90c",
   "metadata": {},
   "outputs": [
    {
     "name": "stdout",
     "output_type": "stream",
     "text": [
      "0xF3D8,   # 1111.001111011000 -0.759765625\n"
     ]
    }
   ],
   "source": [
    "dump(-0.759765625)"
   ]
  },
  {
   "cell_type": "code",
   "execution_count": 51,
   "id": "9358810e-32cf-4c1a-a6cf-423be307743e",
   "metadata": {},
   "outputs": [
    {
     "name": "stdout",
     "output_type": "stream",
     "text": [
      "0xFCF6,   # 1111.110011110110 -0.18994140625\n"
     ]
    }
   ],
   "source": [
    "dump(0.25 * -0.759765625)"
   ]
  },
  {
   "cell_type": "code",
   "execution_count": 52,
   "id": "842ad669-6d36-4f25-8ba6-270030f99745",
   "metadata": {
    "scrolled": true
   },
   "outputs": [
    {
     "data": {
      "text/plain": [
       "'0b1111110011110110'"
      ]
     },
     "execution_count": 52,
     "metadata": {},
     "output_type": "execute_result"
    }
   ],
   "source": [
    "bin(64758)"
   ]
  },
  {
   "cell_type": "code",
   "execution_count": null,
   "id": "0e4102dc-14ab-4481-83cd-b2b678a044ae",
   "metadata": {},
   "outputs": [],
   "source": [
    "'1111.1100 1111 0110'"
   ]
  },
  {
   "cell_type": "code",
   "execution_count": 67,
   "id": "7abd5e50-a1de-46b8-af88-ea5c2aa6a66b",
   "metadata": {},
   "outputs": [
    {
     "name": "stdout",
     "output_type": "stream",
     "text": [
      "0x06CB,   # 0000.011011001011 0.424560546875\n"
     ]
    }
   ],
   "source": [
    "dump((0.25*-0.759765625) + \n",
    "     (-0.1259765625*0.599853515625) + \n",
    "     (0.31396484375*-0.158935546875) +\n",
    "     (1*1) +\n",
    "     (0.25*1) +\n",
    "     (1*-0.5) + \n",
    "     0.009765625 -\n",
    "     0.019775390625)"
   ]
  },
  {
   "cell_type": "code",
   "execution_count": 89,
   "id": "b7615a5b-70ad-42bb-b86f-2824a395709d",
   "metadata": {},
   "outputs": [
    {
     "name": "stdout",
     "output_type": "stream",
     "text": [
      "0x7FFF,   # 0111.111111111111 7.999755859375\n"
     ]
    }
   ],
   "source": [
    "dump(0.759765625*(2**13))"
   ]
  },
  {
   "cell_type": "code",
   "execution_count": 69,
   "id": "ac5c67bd-91a2-4be2-a827-0c2b48673f0a",
   "metadata": {},
   "outputs": [
    {
     "data": {
      "text/plain": [
       "62424"
      ]
     },
     "execution_count": 69,
     "metadata": {},
     "output_type": "execute_result"
    }
   ],
   "source": [
    "(0b1111001111011000"
   ]
  },
  {
   "cell_type": "code",
   "execution_count": null,
   "id": "e9ea9e12-3f9c-4d39-8c8b-dbc201603cd0",
   "metadata": {},
   "outputs": [],
   "source": [
    "0000.010000000000\n",
    "1111.001111011000\n",
    "\n",
    "1111 1111.1100 1111 0110 000000000000"
   ]
  },
  {
   "cell_type": "code",
   "execution_count": 90,
   "id": "ceef4c09-f18d-4e1a-a69c-f49a292532f9",
   "metadata": {},
   "outputs": [
    {
     "name": "stdout",
     "output_type": "stream",
     "text": [
      "0xFCF6,   # 1111.110011110110 -0.18994140625\n"
     ]
    }
   ],
   "source": [
    "# a0b0 \n",
    "dump(-0.759765625 * 0.25)"
   ]
  },
  {
   "cell_type": "code",
   "execution_count": 91,
   "id": "e91d2c32-0c15-44a7-8405-55c25b9ebb02",
   "metadata": {},
   "outputs": [
    {
     "name": "stdout",
     "output_type": "stream",
     "text": [
      "0xFECB,   # 1111.111011001011 -0.075439453125\n"
     ]
    }
   ],
   "source": [
    "# a1b1\n",
    "dump(-0.1259765625 * 0.599853515625)"
   ]
  },
  {
   "cell_type": "code",
   "execution_count": 92,
   "id": "4668052f-8b1d-4abf-b9de-db6926bf6055",
   "metadata": {},
   "outputs": [
    {
     "name": "stdout",
     "output_type": "stream",
     "text": [
      "0xFF34,   # 1111.111100110100 -0.0498046875\n"
     ]
    }
   ],
   "source": [
    "# a2b2 \n",
    "dump(0.31396484375 * -0.158935546875)"
   ]
  },
  {
   "cell_type": "code",
   "execution_count": null,
   "id": "ee578659-053c-40d8-8846-e58e9fdef367",
   "metadata": {},
   "outputs": [],
   "source": []
  }
 ],
 "metadata": {
  "kernelspec": {
   "display_name": "Python 3 (ipykernel)",
   "language": "python",
   "name": "python3"
  },
  "language_info": {
   "codemirror_mode": {
    "name": "ipython",
    "version": 3
   },
   "file_extension": ".py",
   "mimetype": "text/x-python",
   "name": "python",
   "nbconvert_exporter": "python",
   "pygments_lexer": "ipython3",
   "version": "3.9.12"
  }
 },
 "nbformat": 4,
 "nbformat_minor": 5
}
