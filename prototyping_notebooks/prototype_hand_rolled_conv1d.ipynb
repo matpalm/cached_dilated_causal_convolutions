{
 "cells": [
  {
   "cell_type": "code",
   "execution_count": 2,
   "id": "d7a73d0f",
   "metadata": {},
   "outputs": [
    {
     "name": "stderr",
     "output_type": "stream",
     "text": [
      "2023-09-02 22:49:16.651934: I tensorflow/core/platform/cpu_feature_guard.cc:182] This TensorFlow binary is optimized to use available CPU instructions in performance-critical operations.\n",
      "To enable the following instructions: AVX2 FMA, in other operations, rebuild TensorFlow with the appropriate compiler flags.\n",
      "2023-09-02 22:49:17.096625: W tensorflow/compiler/tf2tensorrt/utils/py_utils.cc:38] TF-TRT Warning: Could not find TensorRT\n"
     ]
    }
   ],
   "source": [
    "import tensorflow as tf\n",
    "import numpy as np\n",
    "\n",
    "from tensorflow.keras.layers import Conv1D"
   ]
  },
  {
   "cell_type": "code",
   "execution_count": 4,
   "id": "ea86282e",
   "metadata": {},
   "outputs": [
    {
     "data": {
      "text/plain": [
       "((1, 3, 2),\n",
       " array([[[0.89528223, 0.77096866],\n",
       "         [0.52790267, 0.66903583],\n",
       "         [0.85850122, 0.1493018 ]]]))"
      ]
     },
     "execution_count": 4,
     "metadata": {},
     "output_type": "execute_result"
    }
   ],
   "source": [
    "BATCH_SIZE = 1\n",
    "IN_DIM = 2\n",
    "K = 3\n",
    "OUT_DIM = 4\n",
    "\n",
    "x = np.random.random((BATCH_SIZE, K, IN_DIM))\n",
    "x.shape, x"
   ]
  },
  {
   "cell_type": "code",
   "execution_count": 5,
   "id": "12579138",
   "metadata": {},
   "outputs": [],
   "source": [
    "c1d = Conv1D(filters=OUT_DIM, kernel_size=K, use_bias=False)"
   ]
  },
  {
   "cell_type": "code",
   "execution_count": 6,
   "id": "12f05da2",
   "metadata": {},
   "outputs": [
    {
     "name": "stderr",
     "output_type": "stream",
     "text": [
      "2023-09-02 22:49:32.807325: I tensorflow/compiler/xla/stream_executor/cuda/cuda_gpu_executor.cc:996] successful NUMA node read from SysFS had negative value (-1), but there must be at least one NUMA node, so returning NUMA node zero. See more at https://github.com/torvalds/linux/blob/v6.0/Documentation/ABI/testing/sysfs-bus-pci#L344-L355\n",
      "2023-09-02 22:49:32.832917: W tensorflow/core/common_runtime/gpu/gpu_device.cc:1956] Cannot dlopen some GPU libraries. Please make sure the missing libraries mentioned above are installed properly if you would like to use GPU. Follow the guide at https://www.tensorflow.org/install/gpu for how to download and setup the required libraries for your platform.\n",
      "Skipping registering GPU devices...\n"
     ]
    },
    {
     "data": {
      "text/plain": [
       "<tf.Tensor: shape=(1, 1, 4), dtype=float32, numpy=\n",
       "array([[[-0.2512602 ,  0.40120566,  0.0269018 ,  0.60123014]]],\n",
       "      dtype=float32)>"
      ]
     },
     "execution_count": 6,
     "metadata": {},
     "output_type": "execute_result"
    }
   ],
   "source": [
    "y = c1d(x)\n",
    "assert y.shape == (BATCH_SIZE, 1, OUT_DIM)\n",
    "y"
   ]
  },
  {
   "cell_type": "code",
   "execution_count": 7,
   "id": "81c4cc4c",
   "metadata": {},
   "outputs": [
    {
     "data": {
      "text/plain": [
       "((3, 2, 4),\n",
       " array([[[-0.4412105 ,  0.2847181 , -0.43272266,  0.19800508],\n",
       "         [ 0.5563215 , -0.38290536,  0.12355131, -0.17165372]],\n",
       " \n",
       "        [[-0.12209055, -0.45529744,  0.50919354,  0.02319765],\n",
       "         [-0.43101716,  0.5168401 ,  0.22561276,  0.26710588]],\n",
       " \n",
       "        [[-0.00859588,  0.37832463, -0.06686699,  0.3998586 ],\n",
       "         [ 0.50259745,  0.07559645, -0.28992128,  0.1478265 ]]],\n",
       "       dtype=float32))"
      ]
     },
     "execution_count": 7,
     "metadata": {},
     "output_type": "execute_result"
    }
   ],
   "source": [
    "kernel = c1d.weights[0].numpy()\n",
    "kernel.shape, kernel"
   ]
  },
  {
   "cell_type": "code",
   "execution_count": 8,
   "id": "6ac2adb4",
   "metadata": {},
   "outputs": [
    {
     "data": {
      "text/plain": [
       "((3, 2),\n",
       " array([[0.89528223, 0.77096866],\n",
       "        [0.52790267, 0.66903583],\n",
       "        [0.85850122, 0.1493018 ]]))"
      ]
     },
     "execution_count": 8,
     "metadata": {},
     "output_type": "execute_result"
    }
   ],
   "source": [
    "batchless_x = x[0]\n",
    "\n",
    "batchless_x.shape, batchless_x"
   ]
  },
  {
   "cell_type": "code",
   "execution_count": 10,
   "id": "0dea0c2e",
   "metadata": {},
   "outputs": [
    {
     "data": {
      "text/plain": [
       "((4,), array([-0.2512602 ,  0.40120567,  0.02690176,  0.60123015]))"
      ]
     },
     "execution_count": 10,
     "metadata": {},
     "output_type": "execute_result"
    }
   ],
   "source": [
    "result = np.einsum('ki,kij->j', batchless_x, kernel)\n",
    "result.shape, result"
   ]
  },
  {
   "cell_type": "code",
   "execution_count": 18,
   "id": "b35cce0e",
   "metadata": {},
   "outputs": [
    {
     "data": {
      "text/plain": [
       "array([[-0.25363039],\n",
       "       [ 0.36331111],\n",
       "       [ 0.66839666]])"
      ]
     },
     "execution_count": 18,
     "metadata": {},
     "output_type": "execute_result"
    }
   ],
   "source": [
    "batchless_x = batchless_x.reshape((K, 1, IN_DIM))\n",
    "np.matmul(batchless_x, kernel).sum(axis=-1)"
   ]
  },
  {
   "cell_type": "code",
   "execution_count": 11,
   "id": "37e1093e",
   "metadata": {},
   "outputs": [
    {
     "data": {
      "text/plain": [
       "array([[[ 0.03389852, -0.04030498, -0.29215472,  0.04493079],\n",
       "        [-0.44160622, -0.00915219,  0.62981229,  0.2266987 ],\n",
       "        [ 0.37979114,  0.39698981, -0.28338505,  0.47195589]],\n",
       "\n",
       "       [[ 0.13928281, -0.10587396, -0.14577519, -0.01031508],\n",
       "        [-0.35281785,  0.10543181,  0.41974765,  0.1909495 ],\n",
       "        [ 0.33171791,  0.25029532, -0.22926699,  0.30998764]],\n",
       "\n",
       "       [[-0.29571996,  0.18726237, -0.3530465 ,  0.14435939],\n",
       "        [-0.16916652, -0.31370825,  0.47082767,  0.0597946 ],\n",
       "        [ 0.06765913,  0.33607884, -0.10069117,  0.36534985]]])"
      ]
     },
     "execution_count": 11,
     "metadata": {},
     "output_type": "execute_result"
    }
   ],
   "source": []
  },
  {
   "cell_type": "code",
   "execution_count": null,
   "id": "fd257e7f",
   "metadata": {},
   "outputs": [],
   "source": [
    "batchless_x = x[0]\n",
    "result = np.zeros((out_dim,))\n",
    "for k in range(K):\n",
    "    sub_result = np.dot(batchless_x[k], kernel[k])\n",
    "    print(sub_result)\n",
    "    result += sub_result\n",
    "result"
   ]
  },
  {
   "cell_type": "code",
   "execution_count": null,
   "id": "d52ff277",
   "metadata": {},
   "outputs": [],
   "source": [
    "np.dot(batchless_x[0], kernel[0])"
   ]
  },
  {
   "cell_type": "code",
   "execution_count": null,
   "id": "a3d3c919",
   "metadata": {},
   "outputs": [],
   "source": [
    "for k in [0,1,2]:\n",
    "    print(\"k\", k)\n",
    "    a = batchless_x[k]\n",
    "    b = kernel[k]\n",
    "    print(a.shape, a)\n",
    "    print(b.shape, b)\n",
    "    print(np.dot(a, b))"
   ]
  },
  {
   "cell_type": "code",
   "execution_count": null,
   "id": "4889890b",
   "metadata": {},
   "outputs": [],
   "source": []
  }
 ],
 "metadata": {
  "kernelspec": {
   "display_name": "Python 3 (ipykernel)",
   "language": "python",
   "name": "python3"
  },
  "language_info": {
   "codemirror_mode": {
    "name": "ipython",
    "version": 3
   },
   "file_extension": ".py",
   "mimetype": "text/x-python",
   "name": "python",
   "nbconvert_exporter": "python",
   "pygments_lexer": "ipython3",
   "version": "3.9.12"
  }
 },
 "nbformat": 4,
 "nbformat_minor": 5
}
