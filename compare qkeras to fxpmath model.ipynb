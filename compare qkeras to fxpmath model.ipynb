{
 "cells": [
  {
   "cell_type": "code",
   "execution_count": null,
   "id": "0870064c-7c8a-4ad5-9056-0bf9d6d0e928",
   "metadata": {},
   "outputs": [],
   "source": [
    "import numpy as np\n",
    "np.set_printoptions(precision=16)\n",
    "import pickle\n",
    "\n",
    "import tensorflow as tf\n",
    "from tensorflow.keras.optimizers import Adam\n",
    "\n",
    "from qkeras.utils import model_save_quantized_weights\n",
    "\n",
    "from tf_data_pipeline.data import WaveToWaveData\n",
    "from qkeras_version.qkeras_model import create_dilated_model, masked_mse\n",
    "\n",
    "from fxpmath_version.fxpmath_model import FxpModel\n",
    "\n",
    "import numpy as np\n",
    "import pandas as pd\n",
    "import seaborn as sns\n",
    "import matplotlib.pyplot as plt"
   ]
  },
  {
   "cell_type": "markdown",
   "id": "49ccc87e-ebd5-4737-9899-012b08af716f",
   "metadata": {},
   "source": [
    "## train qkeras model"
   ]
  },
  {
   "cell_type": "code",
   "execution_count": null,
   "id": "8d46ff8f-0c7d-4423-a6b4-2bdf247cd89f",
   "metadata": {},
   "outputs": [],
   "source": [
    "from fxpmath_version.util import FxpUtil\n",
    "\n",
    "fxp = FxpUtil()\n",
    "fxp.single_width(-1.0), fxp.bits(fxp.single_width(-1.0))"
   ]
  },
  {
   "cell_type": "code",
   "execution_count": null,
   "id": "a567cc2c-de3d-42b8-b3a7-0aa6270709aa",
   "metadata": {},
   "outputs": [],
   "source": [
    "class Opts(object):\n",
    "    learning_rate = 1e-3\n",
    "    num_train_egs = 20000\n",
    "    num_validate_egs = 100\n",
    "    num_test_egs = 100\n",
    "    epochs = 5\n",
    "    \n",
    "opts = Opts()\n"
   ]
  },
  {
   "cell_type": "code",
   "execution_count": null,
   "id": "89597cf6-4937-490f-8ac9-45dd2972879a",
   "metadata": {},
   "outputs": [],
   "source": [
    "IN_OUT_D = 4\n",
    "NUM_LAYERS = 3\n",
    "# WIP filter size; final will be 8\n",
    "FILTER_SIZE = 4\n",
    "\n",
    "# note: kernel size and implied dilation rate always assumed 4\n",
    "\n",
    "RECEPTIVE_FIELD_SIZE = 4**NUM_LAYERS\n",
    "TEST_SEQ_LEN = RECEPTIVE_FIELD_SIZE\n",
    "TRAIN_SEQ_LEN = RECEPTIVE_FIELD_SIZE * 5\n",
    "print(\"RECEPTIVE_FIELD_SIZE\", RECEPTIVE_FIELD_SIZE)\n",
    "print(\"TRAIN_SEQ_LEN\", TRAIN_SEQ_LEN)\n",
    "print(\"TEST_SEQ_LEN\", TEST_SEQ_LEN)"
   ]
  },
  {
   "cell_type": "code",
   "execution_count": null,
   "id": "6115b0cd-8973-4084-a723-3f9d858648f6",
   "metadata": {},
   "outputs": [],
   "source": [
    "# make tf datasets\n",
    "\n",
    "# recall WaveToWaveData\n",
    "# x -> (tri,0,0,0)\n",
    "# y -> (tri,square,zigzag,0)\n",
    "\n",
    "data = WaveToWaveData()\n",
    "\n",
    "train_ds = data.tf_dataset_for_split('train', TRAIN_SEQ_LEN, opts.num_train_egs)\n",
    "validate_ds = data.tf_dataset_for_split('validate', TRAIN_SEQ_LEN, opts.num_validate_egs)"
   ]
  },
  {
   "cell_type": "code",
   "execution_count": null,
   "id": "8cdf0031-93e7-4b9f-820b-e230105684c0",
   "metadata": {},
   "outputs": [],
   "source": [
    "# make model\n",
    "train_model = create_dilated_model(TRAIN_SEQ_LEN,\n",
    "        in_out_d=IN_OUT_D, num_layers=NUM_LAYERS, filter_size=FILTER_SIZE,\n",
    "        all_outputs=False)\n",
    "print(train_model.summary())"
   ]
  },
  {
   "cell_type": "code",
   "execution_count": null,
   "id": "d1e421f2-9751-4c9b-b360-fd594efae5ef",
   "metadata": {},
   "outputs": [],
   "source": [
    "# compile loss that only considers column 1 of output ( i.e. square wave )\n",
    "train_model.compile(Adam(opts.learning_rate),\n",
    "                    loss=masked_mse(RECEPTIVE_FIELD_SIZE, filter_column_idx=1))"
   ]
  },
  {
   "cell_type": "code",
   "execution_count": null,
   "id": "2cfd9449-78be-45b1-9b51-88670e0b4c50",
   "metadata": {},
   "outputs": [],
   "source": [
    "train_model.fit(train_ds,\n",
    "                validation_data=validate_ds,\n",
    "                epochs=20)"
   ]
  },
  {
   "cell_type": "code",
   "execution_count": null,
   "id": "aadc28a5-d57e-4a96-9d1d-cc6699a9f26c",
   "metadata": {},
   "outputs": [],
   "source": [
    "weights = model_save_quantized_weights(train_model)\n",
    "from qkeras.utils import model_save_quantized_weights\n",
    "with open('qkeras_weights.pkl', 'wb') as f:\n",
    "    pickle.dump(model_save_quantized_weights(train_model),\n",
    "                f, protocol=pickle.HIGHEST_PROTOCOL)"
   ]
  },
  {
   "cell_type": "code",
   "execution_count": null,
   "id": "6a1bb280-7705-4cda-b0db-f5bd764c3685",
   "metadata": {},
   "outputs": [],
   "source": [
    "with open('qkeras_weights.pkl', 'rb') as f:\n",
    "    weights = pickle.load(f)"
   ]
  },
  {
   "cell_type": "code",
   "execution_count": null,
   "id": "d32401a8-6a47-44c4-a8fa-f7c843734a84",
   "metadata": {},
   "outputs": [],
   "source": [
    "weights"
   ]
  },
  {
   "cell_type": "markdown",
   "id": "c793891d-8cd5-4cfd-8da9-b6d0011d2138",
   "metadata": {},
   "source": [
    "## load weights into fxp model"
   ]
  },
  {
   "cell_type": "code",
   "execution_count": null,
   "id": "acfaccff-1a1e-4b7e-aac3-f953ea4ccf4e",
   "metadata": {},
   "outputs": [],
   "source": [
    "# make model\n",
    "inference_model = create_dilated_model(TEST_SEQ_LEN,\n",
    "        in_out_d=IN_OUT_D, num_layers=NUM_LAYERS, filter_size=FILTER_SIZE,\n",
    "        all_outputs=False)\n",
    "inference_model.set_weights(train_model.get_weights())\n",
    "print(inference_model.summary())\n"
   ]
  },
  {
   "cell_type": "markdown",
   "id": "afffab15-0888-4978-835f-fc4f6a40f39d",
   "metadata": {},
   "source": [
    "## run fxp_model from weights files\n",
    "\n",
    "see `python3 -m fxpmath_version.run_fxpmath_model`"
   ]
  },
  {
   "cell_type": "code",
   "execution_count": null,
   "id": "1c17ef33-c3e1-4c86-b0ed-0958602acd1e",
   "metadata": {},
   "outputs": [],
   "source": []
  },
  {
   "cell_type": "code",
   "execution_count": null,
   "id": "1435a142-d255-4f26-88ac-166619663593",
   "metadata": {},
   "outputs": [],
   "source": [
    "with open(\"/tmp/test_x.hex\", \"w\") as f:\n",
    "    for i in range(len(x)):\n",
    "        next_x = x[i].numpy()[0]\n",
    "        fp_x = fxp_model.fxp.single_width(next_x)\n",
    "        print(i, next_x, fp_x, fp_x.hex(), file=f)\n",
    "        "
   ]
  },
  {
   "cell_type": "code",
   "execution_count": null,
   "id": "7a17b896-8475-4c0f-b663-261dc386c2f8",
   "metadata": {},
   "outputs": [],
   "source": [
    "eval('0xFFFD')"
   ]
  },
  {
   "cell_type": "code",
   "execution_count": null,
   "id": "ef34e71f-16f3-442f-8626-67f8eacc2c3f",
   "metadata": {},
   "outputs": [],
   "source": [
    "0.25+0.125"
   ]
  },
  {
   "cell_type": "code",
   "execution_count": null,
   "id": "83957ca9-5ec5-4d6c-a07e-f1344e03b340",
   "metadata": {},
   "outputs": [],
   "source": [
    "\n",
    "# a0=1, a1=a2=a3=0\n",
    "\n",
    "# \n",
    "# veri [00000000.000011001100000000000000,  11111111.011001110000000000000000,  00000000.101100001100000000000000,  111111111.10000110100000000000000]\n",
    "# fxp  [00000000.000011001100000000000000', 11111111.011001110000000000000000', 00000000.101100001100000000000000', '11111111.110000110100000000000000']\n",
    "# after bias add...\n",
    "# veri [00000000.011100010110000000000000,  11111111.010100010010000000000000, 00000000.001100000110000000000000, 11111111.001111011010000000000000]\n",
    "# fxp  [00000000.011100010110000000000000', 11111111.010100010010000000000000, 00000000.001100000110000000000000, 11111111.001111011010000000000000']\n",
    "# LGTM !\n",
    "\n",
    "# a0=a1=1, a2=a3=0\n",
    "\n",
    "# after bias add\n",
    "# veri [00000000.101011000000000000000000, 11111110.011111011000000000000000, 11111111.110001000010000000000000, 11111111.000100110010000000000000]\n",
    "# fxp  [00000000.101011000000000000000000, 11111110.011111011000000000000000, 11111111.110001000010000000000000, 11111111.000100110010000000000000']\n",
    "# LGTM !\n",
    "\n",
    "# a0=a1=a2=a3 = 1\n",
    "\n",
    "# after bias add\n",
    "# veri  [11111111.010100110110000000000000, 11111111.100111111000000000000000, 00000001.011001010100000000000000, 11111110.010110010100000000000000]\n",
    "# fxp   [11111111.010100110110000000000000, 11111111.100111111000000000000000, 00000001.011001010100000000000000, 11111110.010110010100000000000000']\n",
    "# LGTM\n",
    "\n",
    "# a0=a1=a2=a3 = -1\n",
    "# veri  [00000001.011101011110000000000000, 00000000.001101001100000000000000, 11111101.100110100000000000000000, 00000000.100110111000000000000000]\n",
    "# fxp   [00000001.011101011110000000000000, 00000000.001101001100000000000000, 11111101.100110100000000000000000, 00000000.100110111000000000000000']\n",
    "# LGTM\n",
    "\n",
    "#     dut.a0.value = [\n",
    "#        0x0400,   # 0000.010000000000 0.25\n",
    "#        0xFDFC,   # 1111.110111111100 -0.1259765625\n",
    "#        0x0506,   # 0000.010100000110 0.31396484375\n",
    "#        0xF000    # 1111.000000000000 -1.0\n",
    "# a0=a1=a2=a3\n",
    "\n",
    "# veri [11111111.111001111110011101011100, 11111111.011100010110011101111100, 00000000.001100100110110101000100, 00000000.111001100001010110000000]\n",
    "# fxp  [11111111.111001111110011101011100, 11111111.011100010110011101111100, 00000000.001100100110110101000100, 00000000.111001100001010110000000']"
   ]
  },
  {
   "cell_type": "markdown",
   "id": "3fb6a563-ec16-4218-967e-5fe30210046b",
   "metadata": {},
   "source": [
    "## plot values from verilog version\n",
    "\n",
    "```\n",
    "cat sverilog_version/tests/network/net.out \\\n",
    " | grep ^OUT\\ 1 \\\n",
    " | cut -b26-41 \\\n",
    " | python3 single_width_bin_to_decimal.py \\\n",
    " > y_pred.sverilog.txt\n",
    "```"
   ]
  },
  {
   "cell_type": "code",
   "execution_count": null,
   "id": "42fdca1d-bb7e-4081-b202-b8de1a8bd810",
   "metadata": {},
   "outputs": [],
   "source": [
    "import pandas as pd\n",
    "import seaborn as sns\n",
    "import matplotlib.pyplot as plt\n",
    "\n",
    "y_pred_sverilog = open('y_pred.sverilog.txt').readlines()\n",
    "y_pred_sverilog = list(map(float, y_pred_sverilog))\n",
    "\n",
    "df = pd.DataFrame()\n",
    "df['y_pred'] = y_pred_sverilog\n",
    "df['n'] = range(len(y_pred_sverilog))\n",
    "\n",
    "sns.lineplot(df, x='n', y='y_pred')"
   ]
  },
  {
   "cell_type": "markdown",
   "id": "8db9221b-3675-4c40-b62d-c61b20b8e692",
   "metadata": {},
   "source": [
    "double check.. what should be the triangle wave input\n",
    "\n",
    "```\n",
    "cat sverilog_version/tests/network/net.out | grep ^next_x | uniq | cut -d' ' -f2 > test_x.txt\n",
    "```"
   ]
  },
  {
   "cell_type": "code",
   "execution_count": null,
   "id": "9d59354d-34b7-46de-a439-2cfa5c1a9563",
   "metadata": {},
   "outputs": [],
   "source": [
    "test_x_sverilog = open('test_x.txt').readlines()\n",
    "test_x_sverilog = list(map(float, test_x_sverilog))\n",
    "\n",
    "df = pd.DataFrame()\n",
    "df['test_x'] = test_x_sverilog\n",
    "df['n'] = range(len(test_x_sverilog))\n",
    "\n",
    "sns.lineplot(df, x='n', y='test_x')"
   ]
  },
  {
   "cell_type": "markdown",
   "id": "a5c73df2-9c71-4656-a131-f3a018b8a4b4",
   "metadata": {},
   "source": [
    "## receptive field for 192kHz\n",
    "\n",
    "given the 192kHz resampled data, how much does a receptive field cover?\n"
   ]
  },
  {
   "cell_type": "code",
   "execution_count": null,
   "id": "4e482e3a-4c4b-4c12-ab7d-cfb45dd8a542",
   "metadata": {},
   "outputs": [],
   "source": [
    "#fname = '/data2/cached_dilated_causal_convolutions/2d_embed/96kHz/tri_squ_zigzag.ssv'\n",
    "#fname = '/data2/cached_dilated_causal_convolutions/2d_embed/192kHz_resampled/tri_squ_zigzag.ssv'\n",
    "fname = '/data2/cached_dilated_causal_convolutions/2d_embed/192kHz_resampled/tri_squ_zigzag.ssv'\n",
    "\n",
    "df = pd.read_csv(fname, sep=' ', names=['tri', 'squ', 'zigzag'])\n",
    "df['n'] = range(len(df))\n",
    "\n",
    "df.head()"
   ]
  },
  {
   "cell_type": "code",
   "execution_count": null,
   "id": "e699dd0d-dca0-47b2-add5-7856a4fba448",
   "metadata": {},
   "outputs": [],
   "source": [
    "first_512_df = df[:600]\n",
    "wide_df = first_512_df.melt(id_vars='n', value_vars=['tri', 'squ', 'zigzag'])\n",
    "\n",
    "sns.set(rc={\"figure.figsize\": (12, 4)})\n",
    "sns.lineplot(wide_df, x='n', y='value', hue='variable')"
   ]
  },
  {
   "cell_type": "code",
   "execution_count": null,
   "id": "22da440a-e91b-4c09-ade3-d91077e73716",
   "metadata": {},
   "outputs": [],
   "source": []
  }
 ],
 "metadata": {
  "kernelspec": {
   "display_name": "Python 3 (ipykernel)",
   "language": "python",
   "name": "python3"
  },
  "language_info": {
   "codemirror_mode": {
    "name": "ipython",
    "version": 3
   },
   "file_extension": ".py",
   "mimetype": "text/x-python",
   "name": "python",
   "nbconvert_exporter": "python",
   "pygments_lexer": "ipython3",
   "version": "3.9.12"
  }
 },
 "nbformat": 4,
 "nbformat_minor": 5
}
