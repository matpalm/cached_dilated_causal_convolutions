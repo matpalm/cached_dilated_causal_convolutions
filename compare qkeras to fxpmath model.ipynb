{
 "cells": [
  {
   "cell_type": "code",
   "execution_count": 7,
   "id": "0870064c-7c8a-4ad5-9056-0bf9d6d0e928",
   "metadata": {},
   "outputs": [],
   "source": [
    "import numpy as np\n",
    "import pickle\n",
    "\n",
    "import tensorflow as tf\n",
    "from tensorflow.keras.optimizers import Adam\n",
    "\n",
    "from qkeras.utils import model_save_quantized_weights\n",
    "\n",
    "from tf_data_pipeline.data import WaveToWaveData\n",
    "from qkeras_version.qkeras_model import create_dilated_model, masked_mse\n",
    "\n",
    "from fxpmath_version.fxpmath_model import FxpModel"
   ]
  },
  {
   "cell_type": "markdown",
   "id": "49ccc87e-ebd5-4737-9899-012b08af716f",
   "metadata": {},
   "source": [
    "## train qkeras model"
   ]
  },
  {
   "cell_type": "code",
   "execution_count": 8,
   "id": "a567cc2c-de3d-42b8-b3a7-0aa6270709aa",
   "metadata": {},
   "outputs": [],
   "source": [
    "class Opts(object):\n",
    "    learning_rate = 1e-3\n",
    "    num_train_egs = 20000\n",
    "    num_validate_egs = 100\n",
    "    num_test_egs = 100\n",
    "    epochs = 5\n",
    "    \n",
    "opts = Opts()\n"
   ]
  },
  {
   "cell_type": "code",
   "execution_count": 9,
   "id": "89597cf6-4937-490f-8ac9-45dd2972879a",
   "metadata": {},
   "outputs": [
    {
     "name": "stdout",
     "output_type": "stream",
     "text": [
      "RECEPTIVE_FIELD_SIZE 64\n",
      "TRAIN_SEQ_LEN 320\n",
      "TEST_SEQ_LEN 64\n"
     ]
    }
   ],
   "source": [
    "IN_OUT_D = 4\n",
    "NUM_LAYERS = 3\n",
    "# WIP filter size; final will be 8\n",
    "FILTER_SIZE = 4\n",
    "\n",
    "# note: kernel size and implied dilation rate always assumed 4\n",
    "\n",
    "RECEPTIVE_FIELD_SIZE = 4**NUM_LAYERS\n",
    "TEST_SEQ_LEN = RECEPTIVE_FIELD_SIZE\n",
    "TRAIN_SEQ_LEN = RECEPTIVE_FIELD_SIZE * 5\n",
    "print(\"RECEPTIVE_FIELD_SIZE\", RECEPTIVE_FIELD_SIZE)\n",
    "print(\"TRAIN_SEQ_LEN\", TRAIN_SEQ_LEN)\n",
    "print(\"TEST_SEQ_LEN\", TEST_SEQ_LEN)"
   ]
  },
  {
   "cell_type": "code",
   "execution_count": 10,
   "id": "6115b0cd-8973-4084-a723-3f9d858648f6",
   "metadata": {},
   "outputs": [],
   "source": [
    "# make tf datasets\n",
    "\n",
    "# recall WaveToWaveData\n",
    "# x -> (tri,0,0,0)\n",
    "# y -> (tri,square,zigzag,0)\n",
    "\n",
    "data = WaveToWaveData()\n",
    "\n",
    "train_ds = data.tf_dataset_for_split('train', TRAIN_SEQ_LEN, opts.num_train_egs)\n",
    "validate_ds = data.tf_dataset_for_split('validate', TRAIN_SEQ_LEN, opts.num_validate_egs)"
   ]
  },
  {
   "cell_type": "code",
   "execution_count": 5,
   "id": "8cdf0031-93e7-4b9f-820b-e230105684c0",
   "metadata": {},
   "outputs": [
    {
     "name": "stdout",
     "output_type": "stream",
     "text": [
      "WARNING:tensorflow:From /home/mat/miniconda3/envs/cdcc/lib/python3.9/site-packages/tensorflow/python/autograph/pyct/static_analysis/liveness.py:83: Analyzer.lamba_check (from tensorflow.python.autograph.pyct.static_analysis.liveness) is deprecated and will be removed after 2023-09-23.\n",
      "Instructions for updating:\n",
      "Lambda fuctions will be no more assumed to be used in the statement where they are used, or at least in the same block. https://github.com/tensorflow/tensorflow/issues/56089\n",
      "Model: \"model\"\n",
      "_________________________________________________________________\n",
      " Layer (type)                Output Shape              Param #   \n",
      "=================================================================\n",
      " input_1 (InputLayer)        [(None, 320, 4)]          0         \n",
      "                                                                 \n",
      " qconv_0 (QConv1D)           (None, 320, 4)            68        \n",
      "                                                                 \n",
      " qrelu_0 (QActivation)       (None, 320, 4)            0         \n",
      "                                                                 \n",
      " qconv_1 (QConv1D)           (None, 320, 4)            68        \n",
      "                                                                 \n",
      " qrelu_1 (QActivation)       (None, 320, 4)            0         \n",
      "                                                                 \n",
      " qconv_2 (QConv1D)           (None, 320, 4)            68        \n",
      "                                                                 \n",
      "=================================================================\n",
      "Total params: 204\n",
      "Trainable params: 204\n",
      "Non-trainable params: 0\n",
      "_________________________________________________________________\n",
      "None\n"
     ]
    }
   ],
   "source": [
    "# make model\n",
    "train_model = create_dilated_model(TRAIN_SEQ_LEN,\n",
    "        in_out_d=IN_OUT_D, num_layers=NUM_LAYERS, filter_size=FILTER_SIZE,\n",
    "        all_outputs=False)\n",
    "print(train_model.summary())"
   ]
  },
  {
   "cell_type": "code",
   "execution_count": 6,
   "id": "d1e421f2-9751-4c9b-b360-fd594efae5ef",
   "metadata": {},
   "outputs": [],
   "source": [
    "# compile loss that only considers column 1 of output ( i.e. square wave )\n",
    "train_model.compile(Adam(opts.learning_rate),\n",
    "                    loss=masked_mse(RECEPTIVE_FIELD_SIZE, filter_column_idx=1))"
   ]
  },
  {
   "cell_type": "code",
   "execution_count": 7,
   "id": "2cfd9449-78be-45b1-9b51-88670e0b4c50",
   "metadata": {},
   "outputs": [
    {
     "name": "stdout",
     "output_type": "stream",
     "text": [
      "Epoch 1/20\n",
      "157/157 [==============================] - 6s 12ms/step - loss: 0.2873 - val_loss: 0.1079\n",
      "Epoch 2/20\n",
      "157/157 [==============================] - 2s 8ms/step - loss: 0.1016 - val_loss: 0.0904\n",
      "Epoch 3/20\n",
      "157/157 [==============================] - 1s 7ms/step - loss: 0.0855 - val_loss: 0.0744\n",
      "Epoch 4/20\n",
      "157/157 [==============================] - 2s 7ms/step - loss: 0.0695 - val_loss: 0.0626\n",
      "Epoch 5/20\n",
      "157/157 [==============================] - 1s 6ms/step - loss: 0.0597 - val_loss: 0.0552\n",
      "Epoch 6/20\n",
      "157/157 [==============================] - 1s 6ms/step - loss: 0.0533 - val_loss: 0.0504\n",
      "Epoch 7/20\n",
      "157/157 [==============================] - 1s 7ms/step - loss: 0.0484 - val_loss: 0.0463\n",
      "Epoch 8/20\n",
      "157/157 [==============================] - 1s 6ms/step - loss: 0.0444 - val_loss: 0.0426\n",
      "Epoch 9/20\n",
      "157/157 [==============================] - 2s 9ms/step - loss: 0.0412 - val_loss: 0.0399\n",
      "Epoch 10/20\n",
      "157/157 [==============================] - 2s 7ms/step - loss: 0.0386 - val_loss: 0.0373\n",
      "Epoch 11/20\n",
      "157/157 [==============================] - 2s 8ms/step - loss: 0.0365 - val_loss: 0.0352\n",
      "Epoch 12/20\n",
      "157/157 [==============================] - 1s 7ms/step - loss: 0.0347 - val_loss: 0.0332\n",
      "Epoch 13/20\n",
      "157/157 [==============================] - 1s 7ms/step - loss: 0.0331 - val_loss: 0.0322\n",
      "Epoch 14/20\n",
      "157/157 [==============================] - 1s 7ms/step - loss: 0.0316 - val_loss: 0.0304\n",
      "Epoch 15/20\n",
      "157/157 [==============================] - 1s 7ms/step - loss: 0.0302 - val_loss: 0.0288\n",
      "Epoch 16/20\n",
      "157/157 [==============================] - 1s 7ms/step - loss: 0.0289 - val_loss: 0.0270\n",
      "Epoch 17/20\n",
      "157/157 [==============================] - 1s 7ms/step - loss: 0.0275 - val_loss: 0.0258\n",
      "Epoch 18/20\n",
      "157/157 [==============================] - 1s 7ms/step - loss: 0.0261 - val_loss: 0.0240\n",
      "Epoch 19/20\n",
      "157/157 [==============================] - 1s 7ms/step - loss: 0.0249 - val_loss: 0.0228\n",
      "Epoch 20/20\n",
      "157/157 [==============================] - 1s 7ms/step - loss: 0.0237 - val_loss: 0.0216\n"
     ]
    },
    {
     "data": {
      "text/plain": [
       "<keras.callbacks.History at 0x7f19f3fb5f10>"
      ]
     },
     "execution_count": 7,
     "metadata": {},
     "output_type": "execute_result"
    }
   ],
   "source": [
    "train_model.fit(train_ds,\n",
    "                validation_data=validate_ds,\n",
    "                epochs=20)"
   ]
  },
  {
   "cell_type": "code",
   "execution_count": 11,
   "id": "aadc28a5-d57e-4a96-9d1d-cc6699a9f26c",
   "metadata": {},
   "outputs": [
    {
     "name": "stdout",
     "output_type": "stream",
     "text": [
      "... quantizing model\n",
      "... quantizing model\n"
     ]
    }
   ],
   "source": [
    "weights = model_save_quantized_weights(train_model)\n",
    "from qkeras.utils import model_save_quantized_weights\n",
    "with open('qkeras_weights.pkl', 'wb') as f:\n",
    "    pickle.dump(model_save_quantized_weights(train_model),\n",
    "                f, protocol=pickle.HIGHEST_PROTOCOL)"
   ]
  },
  {
   "cell_type": "code",
   "execution_count": 3,
   "id": "6a1bb280-7705-4cda-b0db-f5bd764c3685",
   "metadata": {},
   "outputs": [],
   "source": [
    "with open('qkeras_weights.pkl', 'rb') as f:\n",
    "    weights = pickle.load(f)"
   ]
  },
  {
   "cell_type": "code",
   "execution_count": 4,
   "id": "d32401a8-6a47-44c4-a8fa-f7c843734a84",
   "metadata": {},
   "outputs": [
    {
     "data": {
      "text/plain": [
       "{'qconv_0': {'weights': [array([[[-0.1743164 , -0.18017578,  0.09228516,  0.578125  ],\n",
       "           [ 0.11962891, -0.4140625 ,  0.19580078, -0.2529297 ],\n",
       "           [ 0.3095703 , -0.00537109,  0.5385742 ,  0.1274414 ],\n",
       "           [-0.20507812,  0.00195312, -0.13623047, -0.6899414 ]],\n",
       "   \n",
       "          [[-0.57177734, -0.37451172,  0.45751953, -0.7055664 ],\n",
       "           [ 0.1015625 , -0.55908203, -0.30371094,  0.03320312],\n",
       "           [ 0.13134766, -0.08642578, -0.48046875,  0.45654297],\n",
       "           [ 0.5678711 ,  0.19335938, -0.09619141,  0.04980469]],\n",
       "   \n",
       "          [[-0.00244141,  0.19580078,  0.6621094 , -0.30371094],\n",
       "           [-0.01953125, -0.3725586 , -0.45214844,  0.4482422 ],\n",
       "           [-0.10009766, -0.24853516, -0.12353516,  0.43847656],\n",
       "           [ 0.        , -0.06005859, -0.25683594, -0.16259766]],\n",
       "   \n",
       "          [[-0.89404297,  1.0566406 ,  0.7602539 , -0.62353516],\n",
       "           [-0.70947266, -0.25732422,  0.5776367 , -0.54052734],\n",
       "           [ 0.37646484,  0.16210938,  0.15283203,  0.41015625],\n",
       "           [ 0.00292969,  0.6567383 ,  0.30908203, -0.39257812]]],\n",
       "         dtype=float32),\n",
       "   array([ 0.3930664 , -0.08544922, -0.50146484, -0.52197266], dtype=float32)]},\n",
       " 'qconv_1': {'weights': [array([[[-0.7636719 ,  0.40820312, -0.4501953 , -0.27929688],\n",
       "           [ 0.4399414 , -0.18066406, -0.5683594 ,  0.04101562],\n",
       "           [-0.03710938,  0.16357422, -0.21875   ,  0.9609375 ],\n",
       "           [-1.0063477 ,  0.01416016,  0.39746094, -0.6982422 ]],\n",
       "   \n",
       "          [[-0.36572266, -0.18847656, -0.51171875,  0.31884766],\n",
       "           [ 0.2841797 , -0.25732422, -0.39257812,  0.03320312],\n",
       "           [-0.35791016,  0.02197266, -0.1381836 ,  0.0234375 ],\n",
       "           [-2.1430664 , -0.03857422, -0.1381836 , -1.1757812 ]],\n",
       "   \n",
       "          [[ 0.21972656, -0.12109375,  0.484375  , -0.23388672],\n",
       "           [-0.2788086 , -0.94140625, -0.12304688,  1.1064453 ],\n",
       "           [-0.54345703, -0.27392578, -0.57910156,  0.71533203],\n",
       "           [-2.3012695 ,  0.80029297,  0.14746094, -1.9472656 ]],\n",
       "   \n",
       "          [[ 0.47216797, -0.1899414 ,  0.08154297,  0.5341797 ],\n",
       "           [-0.40576172,  0.5473633 ,  0.12109375, -0.609375  ],\n",
       "           [-0.6875    ,  0.03222656, -0.1743164 ,  0.18701172],\n",
       "           [-1.1757812 ,  0.43359375,  0.6801758 , -0.6899414 ]]],\n",
       "         dtype=float32),\n",
       "   array([ 0.6591797 ,  0.42919922, -0.11425781, -0.19580078], dtype=float32)]},\n",
       " 'qconv_2': {'weights': [array([[[ 0.26904297, -0.421875  , -0.5048828 , -0.09033203],\n",
       "           [ 0.1640625 ,  0.48583984,  0.13769531, -0.01123047],\n",
       "           [ 0.10253906, -0.3930664 ,  0.42919922, -0.2446289 ],\n",
       "           [-0.08984375, -0.14453125, -0.51220703,  0.33251953]],\n",
       "   \n",
       "          [[-0.05175781, -0.20507812, -0.23095703,  0.1508789 ],\n",
       "           [ 0.7470703 ,  0.30273438, -0.1665039 , -0.45947266],\n",
       "           [-0.76171875, -0.23242188,  0.09570312,  0.05908203],\n",
       "           [ 0.39648438, -0.04003906, -0.24121094, -0.4399414 ]],\n",
       "   \n",
       "          [[ 0.3149414 ,  0.17138672, -0.2841797 , -0.25439453],\n",
       "           [ 0.16992188,  0.10693359, -0.74365234, -0.2685547 ],\n",
       "           [-0.00683594, -0.43066406, -0.05273438,  0.40820312],\n",
       "           [-0.28320312,  0.08398438, -0.1694336 , -0.7006836 ]],\n",
       "   \n",
       "          [[-0.3461914 , -1.8935547 , -0.23144531, -0.18359375],\n",
       "           [-0.35742188,  1.2587891 ,  0.70214844,  0.5786133 ],\n",
       "           [-0.7036133 ,  0.14160156,  0.5957031 ,  0.5991211 ],\n",
       "           [ 0.22216797, -1.371582  ,  0.1274414 ,  0.17578125]]],\n",
       "         dtype=float32),\n",
       "   array([0.        , 0.30615234, 0.        , 0.        ], dtype=float32)]}}"
      ]
     },
     "execution_count": 4,
     "metadata": {},
     "output_type": "execute_result"
    }
   ],
   "source": [
    "weights"
   ]
  },
  {
   "cell_type": "markdown",
   "id": "c793891d-8cd5-4cfd-8da9-b6d0011d2138",
   "metadata": {},
   "source": [
    "## load weights into fxp model"
   ]
  },
  {
   "cell_type": "code",
   "execution_count": 3,
   "id": "acfaccff-1a1e-4b7e-aac3-f953ea4ccf4e",
   "metadata": {},
   "outputs": [
    {
     "ename": "NameError",
     "evalue": "name 'create_dilated_model' is not defined",
     "output_type": "error",
     "traceback": [
      "\u001b[0;31m---------------------------------------------------------------------------\u001b[0m",
      "\u001b[0;31mNameError\u001b[0m                                 Traceback (most recent call last)",
      "Cell \u001b[0;32mIn[3], line 2\u001b[0m\n\u001b[1;32m      1\u001b[0m \u001b[38;5;66;03m# make model\u001b[39;00m\n\u001b[0;32m----> 2\u001b[0m inference_model \u001b[38;5;241m=\u001b[39m \u001b[43mcreate_dilated_model\u001b[49m(TEST_SEQ_LEN,\n\u001b[1;32m      3\u001b[0m         in_out_d\u001b[38;5;241m=\u001b[39mIN_OUT_D, num_layers\u001b[38;5;241m=\u001b[39mNUM_LAYERS, filter_size\u001b[38;5;241m=\u001b[39mFILTER_SIZE,\n\u001b[1;32m      4\u001b[0m         all_outputs\u001b[38;5;241m=\u001b[39m\u001b[38;5;28;01mFalse\u001b[39;00m)\n\u001b[1;32m      5\u001b[0m inference_model\u001b[38;5;241m.\u001b[39mset_weights(train_model\u001b[38;5;241m.\u001b[39mget_weights())\n\u001b[1;32m      6\u001b[0m \u001b[38;5;28mprint\u001b[39m(inference_model\u001b[38;5;241m.\u001b[39msummary())\n",
      "\u001b[0;31mNameError\u001b[0m: name 'create_dilated_model' is not defined"
     ]
    }
   ],
   "source": [
    "\n",
    "# make model\n",
    "inference_model = create_dilated_model(TEST_SEQ_LEN,\n",
    "        in_out_d=IN_OUT_D, num_layers=NUM_LAYERS, filter_size=FILTER_SIZE,\n",
    "        all_outputs=False)\n",
    "inference_model.set_weights(train_model.get_weights())\n",
    "print(inference_model.summary())\n"
   ]
  },
  {
   "cell_type": "code",
   "execution_count": 15,
   "id": "9650e5b9-925d-4f74-8d81-39db96abe6b2",
   "metadata": {},
   "outputs": [
    {
     "data": {
      "text/plain": [
       "(TensorShape([320, 4]), TensorShape([320, 4]))"
      ]
     },
     "execution_count": 15,
     "metadata": {},
     "output_type": "execute_result"
    }
   ],
   "source": [
    "# make a dataset from test with x5 the test sequence length to run through \n",
    "\n",
    "test_ds = data.tf_dataset_for_split('test', TEST_SEQ_LEN*5, opts.num_test_egs)\n",
    "\n",
    "for x, y in test_ds:\n",
    "    break\n",
    "\n",
    "x, y = x[0], y[0]\n",
    "x.shape, y.shape"
   ]
  },
  {
   "cell_type": "markdown",
   "id": "afffab15-0888-4978-835f-fc4f6a40f39d",
   "metadata": {},
   "source": [
    "## just run from weights"
   ]
  },
  {
   "cell_type": "code",
   "execution_count": 12,
   "id": "3b1ee776-a102-4a39-8965-ad41b783a1bf",
   "metadata": {},
   "outputs": [
    {
     "name": "stdout",
     "output_type": "stream",
     "text": [
      ">RollingCache depth=4 dilation=4 kernel_size=4 => num_entries=16\n",
      ">RollingCache depth=4 dilation=16 kernel_size=4 => num_entries=64\n"
     ]
    }
   ],
   "source": [
    "from fxpmath_version.fxpmath_model import FxpModel\n",
    "import numpy as np\n",
    "\n",
    "fxp_model = FxpModel('qkeras_weights.pkl')\n",
    "\n",
    "fxp_model.qconv0.export_weights_per_dot_product(\"/tmp/qconv0_weights\")\n",
    "fxp_model.qconv1.export_weights_per_dot_product(\"/tmp/qconv1_weights\")\n",
    "fxp_model.qconv2.export_weights_per_dot_product(\"/tmp/qconv2_weights\")"
   ]
  },
  {
   "cell_type": "code",
   "execution_count": 13,
   "id": "4d73dd2d-5bf0-4d58-8bd9-102ff838b063",
   "metadata": {},
   "outputs": [
    {
     "name": "stdout",
     "output_type": "stream",
     "text": [
      ">row_by_matrix_multiply column=0\n",
      "dp 0.25 -0.17431640625\n",
      "dp -0.1259765625 0.11962890625\n",
      "dp 0.31396484375 0.3095703125\n",
      "dp -1.0 -0.205078125\n",
      ">row_by_matrix_multiply column=1\n",
      "dp 0.25 -0.18017578125\n",
      "dp -0.1259765625 -0.4140625\n",
      "dp 0.31396484375 -0.00537109375\n",
      "dp -1.0 0.001953125\n",
      ">row_by_matrix_multiply column=2\n",
      "dp 0.25 0.09228515625\n",
      "dp -0.1259765625 0.19580078125\n",
      "dp 0.31396484375 0.53857421875\n",
      "dp -1.0 -0.13623046875\n",
      ">row_by_matrix_multiply column=3\n",
      "dp 0.25 0.578125\n",
      "dp -0.1259765625 -0.2529296875\n",
      "dp 0.31396484375 0.12744140625\n",
      "dp -1.0 -0.68994140625\n",
      "< x0 w0 -> accum0= [fxp-s32/24(0.2436227798461914), fxp-s32/24(0.0034787654876708984), fxp-s32/24(0.3037288188934326), fxp-s32/24(0.9063479900360107)]\n",
      "... ['00000000.001111100101111000010000', '00000000.000000001110001111111100', '00000000.010011011100000100101100', '00000000.111010000000011001101100']\n",
      "x1 w1\n",
      ">row_by_matrix_multiply column=0\n",
      "dp 0.25 -0.57177734375\n",
      "dp -0.1259765625 0.1015625\n",
      "dp 0.31396484375 0.13134765625\n",
      "dp -1.0 0.56787109375\n",
      ">row_by_matrix_multiply column=1\n",
      "dp 0.25 -0.37451171875\n",
      "dp -0.1259765625 -0.55908203125\n",
      "dp 0.31396484375 -0.08642578125\n",
      "dp -1.0 0.193359375\n",
      ">row_by_matrix_multiply column=2\n",
      "dp 0.25 0.45751953125\n",
      "dp -0.1259765625 -0.3037109375\n",
      "dp 0.31396484375 -0.48046875\n",
      "dp -1.0 -0.09619140625\n",
      ">row_by_matrix_multiply column=3\n",
      "dp 0.25 -0.70556640625\n",
      "dp -0.1259765625 0.033203125\n",
      "dp 0.31396484375 0.45654296875\n",
      "dp -1.0 0.0498046875\n",
      "x2 w2\n",
      ">row_by_matrix_multiply column=0\n",
      "dp 0.25 -0.00244140625\n",
      "dp -0.1259765625 -0.01953125\n",
      "dp 0.31396484375 -0.10009765625\n",
      "dp -1.0 0.0\n",
      ">row_by_matrix_multiply column=1\n",
      "dp 0.25 0.19580078125\n",
      "dp -0.1259765625 -0.37255859375\n",
      "dp 0.31396484375 -0.24853515625\n",
      "dp -1.0 -0.06005859375\n",
      ">row_by_matrix_multiply column=2\n",
      "dp 0.25 0.662109375\n",
      "dp -0.1259765625 -0.4521484375\n",
      "dp 0.31396484375 -0.12353515625\n",
      "dp -1.0 -0.2568359375\n",
      ">row_by_matrix_multiply column=3\n",
      "dp 0.25 -0.3037109375\n",
      "dp -0.1259765625 0.4482421875\n",
      "dp 0.31396484375 0.4384765625\n",
      "dp -1.0 -0.16259765625\n",
      "x3 w3\n",
      ">row_by_matrix_multiply column=0\n",
      "dp 0.25 -0.89404296875\n",
      "dp -0.1259765625 -0.70947265625\n",
      "dp 0.31396484375 0.37646484375\n",
      "dp -1.0 0.0029296875\n",
      ">row_by_matrix_multiply column=1\n",
      "dp 0.25 1.056640625\n",
      "dp -0.1259765625 -0.25732421875\n",
      "dp 0.31396484375 0.162109375\n",
      "dp -1.0 0.65673828125\n",
      ">row_by_matrix_multiply column=2\n",
      "dp 0.25 0.76025390625\n",
      "dp -0.1259765625 0.57763671875\n",
      "dp 0.31396484375 0.15283203125\n",
      "dp -1.0 0.30908203125\n",
      ">row_by_matrix_multiply column=3\n",
      "dp 0.25 -0.62353515625\n",
      "dp -0.1259765625 -0.54052734375\n",
      "dp 0.31396484375 0.41015625\n",
      "dp -1.0 -0.392578125\n",
      "add biases [fxp-s32/24(0.39306640625), fxp-s32/24(-0.08544921875), fxp-s32/24(-0.50146484375), fxp-s32/24(-0.52197265625)]\n",
      "Result after add bias [fxp-s32/24(-0.09412598609924316), fxp-s32/24(-0.5570147037506104), fxp-s32/24(0.19697976112365723), fxp-s32/24(0.8987655639648438)]\n",
      "... ['11111111.111001111110011101011100', '11111111.011100010110011101111100', '00000000.001100100110110101000100', '00000000.111001100001010110000000']\n"
     ]
    },
    {
     "data": {
      "text/plain": [
       "array([-0.09399414, -0.55688477,  0.19677734,  0.89868164])"
      ]
     },
     "execution_count": 13,
     "metadata": {},
     "output_type": "execute_result"
    }
   ],
   "source": [
    "# arbitrary part of network\n",
    "\n",
    "# x = np.array([[0, 0.5,  0.25, 0.125],\n",
    "#               [0, -0.5,  -0.25, -0.125],\n",
    "#               [0, 0.5,  0.25, 0.125],\n",
    "#               [0, -0.5,  -0.25, -0.125]])\n",
    "\n",
    "x = np.array([[0.25, -0.1259765625, 0.31396484375, -1],\n",
    "              [0.25, -0.1259765625, 0.31396484375, -1],\n",
    "              [0.25, -0.1259765625, 0.31396484375, -1],\n",
    "              [0.25, -0.1259765625, 0.31396484375, -1]])\n",
    "\n",
    "fxp_model.qconv0.apply(x, relu=False)"
   ]
  },
  {
   "cell_type": "code",
   "execution_count": null,
   "id": "3b5c21ab-7281-4b1f-80d7-a412225b62a5",
   "metadata": {},
   "outputs": [],
   "source": [
    "# run net\n",
    "results = []\n",
    "for i in range(len(x)):    \n",
    "    if i%50 == 0: print(i, \"/\", len(x))\n",
    "    results.append(fxp_model.predict(x[i]))\n",
    "\n",
    "results = np.stack(results)"
   ]
  },
  {
   "cell_type": "code",
   "execution_count": null,
   "id": "1c17ef33-c3e1-4c86-b0ed-0958602acd1e",
   "metadata": {},
   "outputs": [],
   "source": []
  },
  {
   "cell_type": "code",
   "execution_count": 28,
   "id": "1435a142-d255-4f26-88ac-166619663593",
   "metadata": {},
   "outputs": [],
   "source": [
    "with open(\"/tmp/test_x.hex\", \"w\") as f:\n",
    "    for i in range(len(x)):\n",
    "        next_x = x[i].numpy()[0]\n",
    "        fp_x = fxp_model.fxp.single_width(next_x)\n",
    "        print(i, next_x, fp_x, fp_x.hex(), file=f)\n",
    "        "
   ]
  },
  {
   "cell_type": "code",
   "execution_count": 27,
   "id": "7a17b896-8475-4c0f-b663-261dc386c2f8",
   "metadata": {},
   "outputs": [
    {
     "data": {
      "text/plain": [
       "65533"
      ]
     },
     "execution_count": 27,
     "metadata": {},
     "output_type": "execute_result"
    }
   ],
   "source": [
    "eval('0xFFFD')"
   ]
  },
  {
   "cell_type": "code",
   "execution_count": 10,
   "id": "ef34e71f-16f3-442f-8626-67f8eacc2c3f",
   "metadata": {},
   "outputs": [
    {
     "data": {
      "text/plain": [
       "0.375"
      ]
     },
     "execution_count": 10,
     "metadata": {},
     "output_type": "execute_result"
    }
   ],
   "source": [
    "0.25+0.125"
   ]
  },
  {
   "cell_type": "code",
   "execution_count": null,
   "id": "83957ca9-5ec5-4d6c-a07e-f1344e03b340",
   "metadata": {},
   "outputs": [],
   "source": [
    "\n",
    "# a0=1, a1=a2=a3=0\n",
    "\n",
    "# \n",
    "# veri [00000000.000011001100000000000000,  11111111.011001110000000000000000,  00000000.101100001100000000000000,  111111111.10000110100000000000000]\n",
    "# fxp  [00000000.000011001100000000000000', 11111111.011001110000000000000000', 00000000.101100001100000000000000', '11111111.110000110100000000000000']\n",
    "# after bias add...\n",
    "# veri [00000000.011100010110000000000000,  11111111.010100010010000000000000, 00000000.001100000110000000000000, 11111111.001111011010000000000000]\n",
    "# fxp  [00000000.011100010110000000000000', 11111111.010100010010000000000000, 00000000.001100000110000000000000, 11111111.001111011010000000000000']\n",
    "# LGTM !\n",
    "\n",
    "# a0=a1=1, a2=a3=0\n",
    "\n",
    "# after bias add\n",
    "# veri [00000000.101011000000000000000000, 11111110.011111011000000000000000, 11111111.110001000010000000000000, 11111111.000100110010000000000000]\n",
    "# fxp  [00000000.101011000000000000000000, 11111110.011111011000000000000000, 11111111.110001000010000000000000, 11111111.000100110010000000000000']\n",
    "# LGTM !\n",
    "\n",
    "# a0=a1=a2=a3 = 1\n",
    "\n",
    "# after bias add\n",
    "# veri  [11111111.010100110110000000000000, 11111111.100111111000000000000000, 00000001.011001010100000000000000, 11111110.010110010100000000000000]\n",
    "# fxp   [11111111.010100110110000000000000, 11111111.100111111000000000000000, 00000001.011001010100000000000000, 11111110.010110010100000000000000']\n",
    "# LGTM\n",
    "\n",
    "# a0=a1=a2=a3 = -1\n",
    "# veri  [00000001.011101011110000000000000, 00000000.001101001100000000000000, 11111101.100110100000000000000000, 00000000.100110111000000000000000]\n",
    "# fxp   [00000001.011101011110000000000000, 00000000.001101001100000000000000, 11111101.100110100000000000000000, 00000000.100110111000000000000000']\n",
    "# LGTM\n",
    "\n",
    "#     dut.a0.value = [\n",
    "#        0x0400,   # 0000.010000000000 0.25\n",
    "#        0xFDFC,   # 1111.110111111100 -0.1259765625\n",
    "#        0x0506,   # 0000.010100000110 0.31396484375\n",
    "#        0xF000    # 1111.000000000000 -1.0\n",
    "# a0=a1=a2=a3\n",
    "\n",
    "# veri [11111111.111001111110011101011100, 11111111.011100010110011101111100, 00000000.001100100110110101000100, 00000000.111001100001010110000000]\n",
    "# fxp  [11111111.111001111110011101011100, 11111111.011100010110011101111100, 00000000.001100100110110101000100, 00000000.111001100001010110000000']"
   ]
  },
  {
   "cell_type": "code",
   "execution_count": 5,
   "id": "03696c1a-32e3-40bb-914a-9df3ef5f7cf5",
   "metadata": {},
   "outputs": [
    {
     "ename": "NameError",
     "evalue": "name 'results' is not defined",
     "output_type": "error",
     "traceback": [
      "\u001b[0;31m---------------------------------------------------------------------------\u001b[0m",
      "\u001b[0;31mNameError\u001b[0m                                 Traceback (most recent call last)",
      "Cell \u001b[0;32mIn[5], line 6\u001b[0m\n\u001b[1;32m      2\u001b[0m \u001b[38;5;28;01mimport\u001b[39;00m \u001b[38;5;21;01mseaborn\u001b[39;00m \u001b[38;5;28;01mas\u001b[39;00m \u001b[38;5;21;01msns\u001b[39;00m\n\u001b[1;32m      4\u001b[0m df \u001b[38;5;241m=\u001b[39m pd\u001b[38;5;241m.\u001b[39mDataFrame()\n\u001b[0;32m----> 6\u001b[0m df[\u001b[38;5;124m'\u001b[39m\u001b[38;5;124my_pred\u001b[39m\u001b[38;5;124m'\u001b[39m] \u001b[38;5;241m=\u001b[39m \u001b[43mresults\u001b[49m[:,\u001b[38;5;241m1\u001b[39m]     \u001b[38;5;66;03m# recall; loss only covered element1 \u001b[39;00m\n\u001b[1;32m      7\u001b[0m df[\u001b[38;5;124m'\u001b[39m\u001b[38;5;124my_true\u001b[39m\u001b[38;5;124m'\u001b[39m] \u001b[38;5;241m=\u001b[39m y[:,\u001b[38;5;241m1\u001b[39m]\u001b[38;5;241m.\u001b[39mnumpy()\n\u001b[1;32m      8\u001b[0m df[\u001b[38;5;124m'\u001b[39m\u001b[38;5;124mn\u001b[39m\u001b[38;5;124m'\u001b[39m] \u001b[38;5;241m=\u001b[39m \u001b[38;5;28mrange\u001b[39m(\u001b[38;5;28mlen\u001b[39m(results))\n",
      "\u001b[0;31mNameError\u001b[0m: name 'results' is not defined"
     ]
    }
   ],
   "source": [
    "import pandas as pd\n",
    "import seaborn as sns\n",
    "\n",
    "df = pd.DataFrame()\n",
    "\n",
    "df['y_pred'] = results[:,1]     # recall; loss only covered element1 \n",
    "df['y_true'] = y[:,1].numpy()\n",
    "df['n'] = range(len(results))\n",
    "\n",
    "wide_df = pd.melt(df, id_vars=['n'], value_vars=['y_pred', 'y_true'])\n",
    "wide_df.head()\n",
    "\n",
    "sns.lineplot(wide_df, x='n', y='value', hue='variable')"
   ]
  },
  {
   "cell_type": "code",
   "execution_count": 11,
   "id": "d74c3b33-1268-46ac-be7b-0cbc9a1def49",
   "metadata": {},
   "outputs": [
    {
     "data": {
      "text/plain": [
       "(640,)"
      ]
     },
     "execution_count": 11,
     "metadata": {},
     "output_type": "execute_result"
    }
   ],
   "source": [
    "y[:,1].numpy().shape"
   ]
  },
  {
   "cell_type": "markdown",
   "id": "3fb6a563-ec16-4218-967e-5fe30210046b",
   "metadata": {},
   "source": [
    "## plot values from verilog version\n",
    "\n",
    "```\n",
    "cat sverilog_version/tests/network/net.out \\\n",
    " | grep ^OUT\\ 1 \\\n",
    " | cut -b26-41 \\\n",
    " | python3 single_width_bin_to_decimal.py \\\n",
    " > y_pred.sverilog.txt\n",
    "```"
   ]
  },
  {
   "cell_type": "code",
   "execution_count": 7,
   "id": "42fdca1d-bb7e-4081-b202-b8de1a8bd810",
   "metadata": {},
   "outputs": [
    {
     "name": "stderr",
     "output_type": "stream",
     "text": [
      "/home/mat/miniconda3/envs/cdcc/lib/python3.9/site-packages/seaborn/_oldcore.py:1498: FutureWarning: is_categorical_dtype is deprecated and will be removed in a future version. Use isinstance(dtype, CategoricalDtype) instead\n",
      "  if pd.api.types.is_categorical_dtype(vector):\n",
      "/home/mat/miniconda3/envs/cdcc/lib/python3.9/site-packages/seaborn/_oldcore.py:1498: FutureWarning: is_categorical_dtype is deprecated and will be removed in a future version. Use isinstance(dtype, CategoricalDtype) instead\n",
      "  if pd.api.types.is_categorical_dtype(vector):\n",
      "/home/mat/miniconda3/envs/cdcc/lib/python3.9/site-packages/seaborn/_oldcore.py:1119: FutureWarning: use_inf_as_na option is deprecated and will be removed in a future version. Convert inf values to NaN before operating instead.\n",
      "  with pd.option_context('mode.use_inf_as_na', True):\n",
      "/home/mat/miniconda3/envs/cdcc/lib/python3.9/site-packages/seaborn/_oldcore.py:1119: FutureWarning: use_inf_as_na option is deprecated and will be removed in a future version. Convert inf values to NaN before operating instead.\n",
      "  with pd.option_context('mode.use_inf_as_na', True):\n"
     ]
    },
    {
     "data": {
      "text/plain": [
       "<Axes: xlabel='n', ylabel='y_pred'>"
      ]
     },
     "execution_count": 7,
     "metadata": {},
     "output_type": "execute_result"
    },
    {
     "data": {
      "image/png": "[encoded data removed]",
      "text/plain": [
       "<Figure size 640x480 with 1 Axes>"
      ]
     },
     "metadata": {},
     "output_type": "display_data"
    }
   ],
   "source": [
    "y_pred_sverilog = open('y_pred.sverilog.txt').readlines()\n",
    "y_pred_sverilog = list(map(float, y_pred_sverilog))\n",
    "\n",
    "df = pd.DataFrame()\n",
    "df['y_pred'] = y_pred_sverilog\n",
    "df['n'] = range(len(y_pred_sverilog))\n",
    "\n",
    "sns.lineplot(df, x='n', y='y_pred')"
   ]
  },
  {
   "cell_type": "markdown",
   "id": "8db9221b-3675-4c40-b62d-c61b20b8e692",
   "metadata": {},
   "source": [
    "double check.. what should be the triangle wave input\n",
    "\n",
    "```\n",
    "cat sverilog_version/tests/network/net.out | grep ^next_x | uniq | cut -d' ' -f2 > test_x.txt\n",
    "```"
   ]
  },
  {
   "cell_type": "code",
   "execution_count": null,
   "id": "9d59354d-34b7-46de-a439-2cfa5c1a9563",
   "metadata": {},
   "outputs": [],
   "source": [
    "test_x_sverilog = open('test_x.txt').readlines()\n",
    "test_x_sverilog = list(map(float, test_x_sverilog))\n",
    "\n",
    "df = pd.DataFrame()\n",
    "df['test_x'] = test_x_sverilog\n",
    "df['n'] = range(len(test_x_sverilog))\n",
    "\n",
    "sns.lineplot(df, x='n', y='test_x')"
   ]
  }
 ],
 "metadata": {
  "kernelspec": {
   "display_name": "Python 3 (ipykernel)",
   "language": "python",
   "name": "python3"
  },
  "language_info": {
   "codemirror_mode": {
    "name": "ipython",
    "version": 3
   },
   "file_extension": ".py",
   "mimetype": "text/x-python",
   "name": "python",
   "nbconvert_exporter": "python",
   "pygments_lexer": "ipython3",
   "version": "3.9.12"
  }
 },
 "nbformat": 4,
 "nbformat_minor": 5
}
